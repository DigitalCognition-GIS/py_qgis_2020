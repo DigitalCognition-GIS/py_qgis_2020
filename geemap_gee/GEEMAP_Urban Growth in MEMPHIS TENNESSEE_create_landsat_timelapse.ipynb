{
 "cells": [
  {
   "cell_type": "code",
   "execution_count": 1,
   "metadata": {},
   "outputs": [],
   "source": [
    "import ee\n",
    "import geemap"
   ]
  },
  {
   "cell_type": "code",
   "execution_count": 2,
   "metadata": {},
   "outputs": [
    {
     "data": {
      "application/vnd.jupyter.widget-view+json": {
       "model_id": "43b7615a46b04dc4b3eabee780f0754b",
       "version_major": 2,
       "version_minor": 0
      },
      "text/plain": [
       "Map(center=[40, -100], controls=(WidgetControl(options=['position'], widget=HBox(children=(ToggleButton(value=…"
      ]
     },
     "metadata": {},
     "output_type": "display_data"
    }
   ],
   "source": [
    "Map = geemap.Map()\n",
    "Map"
   ]
  },
  {
   "cell_type": "code",
   "execution_count": 4,
   "metadata": {},
   "outputs": [
    {
     "name": "stdout",
     "output_type": "stream",
     "text": [
      "ee.Feature({\n",
      "  \"type\": \"Invocation\",\n",
      "  \"arguments\": {\n",
      "    \"geometry\": {\n",
      "      \"type\": \"Polygon\",\n",
      "      \"coordinates\": [\n",
      "        [\n",
      "          [\n",
      "            -90.088529,\n",
      "            35.135998\n",
      "          ],\n",
      "          [\n",
      "            -90.088529,\n",
      "            35.168981\n",
      "          ],\n",
      "          [\n",
      "            -90.026408,\n",
      "            35.168981\n",
      "          ],\n",
      "          [\n",
      "            -90.026408,\n",
      "            35.135998\n",
      "          ],\n",
      "          [\n",
      "            -90.088529,\n",
      "            35.135998\n",
      "          ]\n",
      "        ]\n",
      "      ],\n",
      "      \"geodesic\": false\n",
      "    }\n",
      "  },\n",
      "  \"functionName\": \"Feature\"\n",
      "})\n"
     ]
    }
   ],
   "source": [
    "roi_memphis_last_feat = Map.draw_last_feature\n",
    "print(roi_memphis_last_feat)"
   ]
  },
  {
   "cell_type": "code",
   "execution_count": 6,
   "metadata": {},
   "outputs": [
    {
     "name": "stdout",
     "output_type": "stream",
     "text": [
      "Generating URL...\n",
      "Downloading GIF image from https://earthengine.googleapis.com/v1alpha/projects/earthengine-legacy/videoThumbnails/9f209cb0ca2ff21977bebe4aa5d085b3-a621e1c9ce0c1b834c3d26cc10fcd90b:getPixels\n",
      "Please wait ...\n",
      "The GIF image has been saved to: /home/dhankar/Downloads/landsat_ts_pgb.gif\n",
      "Adding animated text to GIF ...\n",
      "Adding GIF to the map ...\n"
     ]
    }
   ],
   "source": [
    "#Generate a Landsat timelapse animation\n",
    "\n",
    "label = 'Urban Growth in MEMPHIS TENNESSEE'\n",
    "Map.add_landsat_ts_gif(label=label, start_year=2000, bands=['Red', 'Green', 'Blue'], \n",
    "                       font_color='white', frames_per_second=2, progress_bar_color='blue')\n"
   ]
  },
  {
   "cell_type": "code",
   "execution_count": null,
   "metadata": {},
   "outputs": [],
   "source": []
  },
  {
   "cell_type": "code",
   "execution_count": null,
   "metadata": {},
   "outputs": [],
   "source": []
  },
  {
   "cell_type": "code",
   "execution_count": null,
   "metadata": {},
   "outputs": [],
   "source": []
  },
  {
   "cell_type": "code",
   "execution_count": null,
   "metadata": {},
   "outputs": [],
   "source": []
  },
  {
   "cell_type": "code",
   "execution_count": 4,
   "metadata": {},
   "outputs": [
    {
     "name": "stdout",
     "output_type": "stream",
     "text": [
      "ee.Feature({\n",
      "  \"type\": \"Invocation\",\n",
      "  \"arguments\": {\n",
      "    \"geometry\": {\n",
      "      \"type\": \"Polygon\",\n",
      "      \"coordinates\": [\n",
      "        [\n",
      "          [\n",
      "            77.408633,\n",
      "            12.776491\n",
      "          ],\n",
      "          [\n",
      "            77.408633,\n",
      "            13.11644\n",
      "          ],\n",
      "          [\n",
      "            77.853502,\n",
      "            13.11644\n",
      "          ],\n",
      "          [\n",
      "            77.853502,\n",
      "            12.776491\n",
      "          ],\n",
      "          [\n",
      "            77.408633,\n",
      "            12.776491\n",
      "          ]\n",
      "        ]\n",
      "      ],\n",
      "      \"geodesic\": false\n",
      "    }\n",
      "  },\n",
      "  \"functionName\": \"Feature\"\n",
      "})\n"
     ]
    }
   ],
   "source": [
    "roi_last_feat = Map.draw_last_feature\n",
    "print(roi_last_feat)"
   ]
  },
  {
   "cell_type": "code",
   "execution_count": 7,
   "metadata": {},
   "outputs": [
    {
     "name": "stdout",
     "output_type": "stream",
     "text": [
      "ee.Feature({\n",
      "  \"type\": \"Invocation\",\n",
      "  \"arguments\": {\n",
      "    \"geometry\": {\n",
      "      \"type\": \"Polygon\",\n",
      "      \"coordinates\": [\n",
      "        [\n",
      "          [\n",
      "            77.057424,\n",
      "            28.474554\n",
      "          ],\n",
      "          [\n",
      "            77.057424,\n",
      "            28.478948\n",
      "          ],\n",
      "          [\n",
      "            77.065791,\n",
      "            28.478948\n",
      "          ],\n",
      "          [\n",
      "            77.065791,\n",
      "            28.474554\n",
      "          ],\n",
      "          [\n",
      "            77.057424,\n",
      "            28.474554\n",
      "          ]\n",
      "        ]\n",
      "      ],\n",
      "      \"geodesic\": false\n",
      "    }\n",
      "  },\n",
      "  \"functionName\": \"Feature\"\n",
      "})\n"
     ]
    }
   ],
   "source": [
    "roi_last_feat_gurugram = Map.draw_last_feature\n",
    "print(roi_last_feat_gurugram)"
   ]
  },
  {
   "cell_type": "code",
   "execution_count": 11,
   "metadata": {},
   "outputs": [],
   "source": [
    "#ERROR -- Doesnt seem to work for other than US Locations -- tried for Bangaluru and Gurugram "
   ]
  },
  {
   "cell_type": "code",
   "execution_count": 9,
   "metadata": {},
   "outputs": [
    {
     "name": "stdout",
     "output_type": "stream",
     "text": [
      "Generating URL...\n",
      "Downloading GIF image from https://earthengine.googleapis.com/v1alpha/projects/earthengine-legacy/videoThumbnails/98b6d81290ba7d9e9d1142f8aa4ede5b-5f11c7c215c76d07ff4d7d2aaf783c5d:getPixels\n",
      "Please wait ...\n",
      "The GIF image has been saved to: /home/dhankar/Downloads/landsat_ts_uwe.gif\n",
      "Adding animated text to GIF ...\n",
      "Adding GIF to the map ...\n"
     ]
    }
   ],
   "source": [
    "#Generate a Landsat timelapse animation\n",
    "# ERROR -- Doesnt seem to work for other than US Locations -- tried for Bangaluru and Gurugram \n",
    "label = 'Urban Growth in Las Vegas'\n",
    "Map.add_landsat_ts_gif(label=label, start_year=2000, bands=['Red', 'Green', 'Blue'], \n",
    "                       font_color='white', frames_per_second=10, progress_bar_color='blue')\n"
   ]
  },
  {
   "cell_type": "code",
   "execution_count": null,
   "metadata": {},
   "outputs": [],
   "source": []
  },
  {
   "cell_type": "code",
   "execution_count": null,
   "metadata": {},
   "outputs": [],
   "source": []
  },
  {
   "cell_type": "code",
   "execution_count": null,
   "metadata": {},
   "outputs": [],
   "source": []
  },
  {
   "cell_type": "code",
   "execution_count": null,
   "metadata": {},
   "outputs": [],
   "source": []
  },
  {
   "cell_type": "code",
   "execution_count": null,
   "metadata": {},
   "outputs": [],
   "source": []
  },
  {
   "cell_type": "code",
   "execution_count": null,
   "metadata": {},
   "outputs": [],
   "source": []
  },
  {
   "cell_type": "code",
   "execution_count": null,
   "metadata": {},
   "outputs": [],
   "source": []
  },
  {
   "cell_type": "code",
   "execution_count": null,
   "metadata": {},
   "outputs": [],
   "source": []
  },
  {
   "cell_type": "code",
   "execution_count": null,
   "metadata": {},
   "outputs": [],
   "source": []
  }
 ],
 "metadata": {
  "kernelspec": {
   "display_name": "Python 3",
   "language": "python",
   "name": "python3"
  },
  "language_info": {
   "codemirror_mode": {
    "name": "ipython",
    "version": 3
   },
   "file_extension": ".py",
   "mimetype": "text/x-python",
   "name": "python",
   "nbconvert_exporter": "python",
   "pygments_lexer": "ipython3",
   "version": "3.8.3"
  }
 },
 "nbformat": 4,
 "nbformat_minor": 4
}
