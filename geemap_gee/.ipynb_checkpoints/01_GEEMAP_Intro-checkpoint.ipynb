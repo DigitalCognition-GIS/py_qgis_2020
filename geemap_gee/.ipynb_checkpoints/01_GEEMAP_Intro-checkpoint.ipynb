{
 "cells": [
  {
   "cell_type": "code",
   "execution_count": 1,
   "metadata": {},
   "outputs": [],
   "source": [
    "import ee \n",
    "\"\"\"\n",
    "# earth engine to get the Non-GoogleMap Data Layers \n",
    "#as an example the Sentinel-2 MSI: MultiSpectral Instrument, Level-2A\n",
    "\"\"\"\n",
    "import geemap"
   ]
  },
  {
   "cell_type": "code",
   "execution_count": 2,
   "metadata": {},
   "outputs": [
    {
     "data": {
      "application/vnd.jupyter.widget-view+json": {
       "model_id": "9f904b98ea0a4aad957f79e3d4bbd921",
       "version_major": 2,
       "version_minor": 0
      },
      "text/plain": [
       "Output(layout=Layout(width='815px'))"
      ]
     },
     "metadata": {},
     "output_type": "display_data"
    }
   ],
   "source": [
    "geemap.show_youtube('h0pz3S6Tvx0')"
   ]
  },
  {
   "cell_type": "code",
   "execution_count": 2,
   "metadata": {},
   "outputs": [
    {
     "data": {
      "application/vnd.jupyter.widget-view+json": {
       "model_id": "33ab7541b71b4954874cf84ebcd6ba91",
       "version_major": 2,
       "version_minor": 0
      },
      "text/plain": [
       "Map(center=[40, -100], controls=(WidgetControl(options=['position'], widget=HBox(children=(ToggleButton(value=…"
      ]
     },
     "metadata": {},
     "output_type": "display_data"
    },
    {
     "data": {
      "application/javascript": [
       "\n",
       "        var code = IPython.notebook.insert_cell_below('code');\n",
       "        code.set_text(atob(\"ZGF0YXNldF9hZmcgPSBlZS5JbWFnZUNvbGxlY3Rpb24oJ0NPUEVSTklDVVMvUzJfU1InKQpNYXAuYWRkTGF5ZXIoZGF0YXNldF9hZmcsIHt9LCAiQ09QRVJOSUNVUy9TMl9TUiIp\"));\n",
       "    "
      ],
      "text/plain": [
       "<IPython.core.display.Javascript object>"
      ]
     },
     "metadata": {},
     "output_type": "display_data"
    }
   ],
   "source": [
    "Map = geemap.Map(center=(40, -100), zoom=4)\n",
    "Map"
   ]
  },
  {
   "cell_type": "code",
   "execution_count": 3,
   "metadata": {},
   "outputs": [
    {
     "ename": "NameError",
     "evalue": "name 'ee' is not defined",
     "output_type": "error",
     "traceback": [
      "\u001b[0;31m---------------------------------------------------------------------------\u001b[0m",
      "\u001b[0;31mNameError\u001b[0m                                 Traceback (most recent call last)",
      "\u001b[0;32m<ipython-input-3-290bc20f18e3>\u001b[0m in \u001b[0;36m<module>\u001b[0;34m\u001b[0m\n\u001b[0;32m----> 1\u001b[0;31m \u001b[0mdataset_afg\u001b[0m \u001b[0;34m=\u001b[0m \u001b[0mee\u001b[0m\u001b[0;34m.\u001b[0m\u001b[0mImageCollection\u001b[0m\u001b[0;34m(\u001b[0m\u001b[0;34m'COPERNICUS/S2_SR'\u001b[0m\u001b[0;34m)\u001b[0m\u001b[0;34m\u001b[0m\u001b[0;34m\u001b[0m\u001b[0m\n\u001b[0m\u001b[1;32m      2\u001b[0m \u001b[0mMap\u001b[0m\u001b[0;34m.\u001b[0m\u001b[0maddLayer\u001b[0m\u001b[0;34m(\u001b[0m\u001b[0mdataset_afg\u001b[0m\u001b[0;34m,\u001b[0m \u001b[0;34m{\u001b[0m\u001b[0;34m}\u001b[0m\u001b[0;34m,\u001b[0m \u001b[0;34m\"COPERNICUS/S2_SR\"\u001b[0m\u001b[0;34m)\u001b[0m\u001b[0;34m\u001b[0m\u001b[0;34m\u001b[0m\u001b[0m\n",
      "\u001b[0;31mNameError\u001b[0m: name 'ee' is not defined"
     ]
    }
   ],
   "source": [
    "dataset_afg = ee.ImageCollection('COPERNICUS/S2_SR')\n",
    "Map.addLayer(dataset_afg, {}, \"COPERNICUS/S2_SR\")"
   ]
  },
  {
   "cell_type": "code",
   "execution_count": null,
   "metadata": {},
   "outputs": [],
   "source": [
    "### The Jupyter Notebook Cell above got created Automatically when we hit IMPORT in the GEEMAP UI Above\n",
    "#\n",
    "#https://developers.google.com/earth-engine/datasets/catalog/COPERNICUS_S2_SR\n",
    "#Sentinel-2 MSI: MultiSpectral Instrument, Level-2A\n",
    "#ee.ImageCollection(\"COPERNICUS/S2_SR\")\n"
   ]
  },
  {
   "cell_type": "code",
   "execution_count": null,
   "metadata": {},
   "outputs": [],
   "source": []
  },
  {
   "cell_type": "code",
   "execution_count": null,
   "metadata": {},
   "outputs": [],
   "source": []
  },
  {
   "cell_type": "code",
   "execution_count": 6,
   "metadata": {},
   "outputs": [
    {
     "name": "stdout",
     "output_type": "stream",
     "text": [
      "layer already on map: TileLayer(attribution='Google', name='Google Maps', options=['attribution', 'detect_retina', 'max_native_zoom', 'max_zoom', 'min_native_zoom', 'min_zoom', 'no_wrap', 'tile_size', 'tms'], url='https://mt1.google.com/vt/lyrs=m&x={x}&y={y}&z={z}')\n",
      "Basemap can only be one of the following:\n",
      "  ROADMAP\n",
      "  SATELLITE\n",
      "  TERRAIN\n",
      "  HYBRID\n",
      "  ESRI\n",
      "  Esri Ocean\n",
      "  Esri Satellite\n",
      "  Esri Standard\n",
      "  Esri Terrain\n",
      "  Esri Transportation\n",
      "  Esri Topo World\n",
      "  Esri National Geographic\n",
      "  Esri Shaded Relief\n",
      "  Esri Physical Map\n",
      "  FWS NWI Wetlands\n",
      "  FWS NWI Wetlands Raster\n",
      "  Google Maps\n",
      "  Google Satellite\n",
      "  Google Terrain\n",
      "  Google Satellite Hybrid\n",
      "  NLCD 2016 CONUS Land Cover\n",
      "  NLCD 2013 CONUS Land Cover\n",
      "  NLCD 2011 CONUS Land Cover\n",
      "  NLCD 2008 CONUS Land Cover\n",
      "  NLCD 2006 CONUS Land Cover\n",
      "  NLCD 2004 CONUS Land Cover\n",
      "  NLCD 2001 CONUS Land Cover\n",
      "  USGS NAIP Imagery\n",
      "  USGS Hydrography\n",
      "  USGS 3DEP Elevation\n",
      "  OpenStreetMap.Mapnik\n",
      "  OpenStreetMap.BlackAndWhite\n",
      "  OpenStreetMap.DE\n",
      "  OpenStreetMap.France\n",
      "  OpenStreetMap.HOT\n",
      "  OpenTopoMap\n",
      "  Hydda.Full\n",
      "  Hydda.Base\n",
      "  Esri.WorldStreetMap\n",
      "  Esri.DeLorme\n",
      "  Esri.WorldTopoMap\n",
      "  Esri.WorldImagery\n",
      "  Esri.NatGeoWorldMap\n",
      "  HikeBike.HikeBike\n",
      "  MtbMap\n",
      "  CartoDB.Positron\n",
      "  CartoDB.DarkMatter\n",
      "  NASAGIBS.ModisTerraTrueColorCR\n",
      "  NASAGIBS.ModisTerraBands367CR\n",
      "  NASAGIBS.ModisTerraBands721CR\n",
      "  NASAGIBS.ModisAquaTrueColorCR\n",
      "  NASAGIBS.ModisAquaBands721CR\n",
      "  NASAGIBS.ViirsTrueColorCR\n",
      "  NASAGIBS.ViirsEarthAtNight2012\n",
      "  NASAGIBS.BlueMarble3413\n",
      "  NASAGIBS.BlueMarble3031\n",
      "  NASAGIBS.BlueMarble\n",
      "  Strava.All\n",
      "  Strava.Ride\n",
      "  Strava.Run\n",
      "  Strava.Water\n",
      "  Strava.Winter\n",
      "  Stamen.Terrain\n",
      "  Stamen.Toner\n",
      "  Stamen.Watercolor\n"
     ]
    }
   ],
   "source": [
    "#Map.add_basemap('HYBRID')\n",
    "Map.add_basemap('ROADMAP')"
   ]
  },
  {
   "cell_type": "code",
   "execution_count": null,
   "metadata": {},
   "outputs": [],
   "source": []
  },
  {
   "cell_type": "code",
   "execution_count": null,
   "metadata": {},
   "outputs": [],
   "source": []
  },
  {
   "cell_type": "code",
   "execution_count": null,
   "metadata": {},
   "outputs": [],
   "source": []
  },
  {
   "cell_type": "code",
   "execution_count": 5,
   "metadata": {},
   "outputs": [
    {
     "name": "stdout",
     "output_type": "stream",
     "text": [
      "ROADMAP\n",
      "SATELLITE\n",
      "TERRAIN\n",
      "HYBRID\n",
      "ESRI\n",
      "Esri Ocean\n",
      "Esri Satellite\n",
      "Esri Standard\n",
      "Esri Terrain\n",
      "Esri Transportation\n",
      "Esri Topo World\n",
      "Esri National Geographic\n",
      "Esri Shaded Relief\n",
      "Esri Physical Map\n",
      "FWS NWI Wetlands\n",
      "FWS NWI Wetlands Raster\n",
      "Google Maps\n",
      "Google Satellite\n",
      "Google Terrain\n",
      "Google Satellite Hybrid\n",
      "NLCD 2016 CONUS Land Cover\n",
      "NLCD 2013 CONUS Land Cover\n",
      "NLCD 2011 CONUS Land Cover\n",
      "NLCD 2008 CONUS Land Cover\n",
      "NLCD 2006 CONUS Land Cover\n",
      "NLCD 2004 CONUS Land Cover\n",
      "NLCD 2001 CONUS Land Cover\n",
      "USGS NAIP Imagery\n",
      "USGS Hydrography\n",
      "USGS 3DEP Elevation\n",
      "OpenStreetMap.Mapnik\n",
      "OpenStreetMap.BlackAndWhite\n",
      "OpenStreetMap.DE\n",
      "OpenStreetMap.France\n",
      "OpenStreetMap.HOT\n",
      "OpenTopoMap\n",
      "Hydda.Full\n",
      "Hydda.Base\n",
      "Esri.WorldStreetMap\n",
      "Esri.DeLorme\n",
      "Esri.WorldTopoMap\n",
      "Esri.WorldImagery\n",
      "Esri.NatGeoWorldMap\n",
      "HikeBike.HikeBike\n",
      "MtbMap\n",
      "CartoDB.Positron\n",
      "CartoDB.DarkMatter\n",
      "NASAGIBS.ModisTerraTrueColorCR\n",
      "NASAGIBS.ModisTerraBands367CR\n",
      "NASAGIBS.ModisTerraBands721CR\n",
      "NASAGIBS.ModisAquaTrueColorCR\n",
      "NASAGIBS.ModisAquaBands721CR\n",
      "NASAGIBS.ViirsTrueColorCR\n",
      "NASAGIBS.ViirsEarthAtNight2012\n",
      "NASAGIBS.BlueMarble3413\n",
      "NASAGIBS.BlueMarble3031\n",
      "NASAGIBS.BlueMarble\n",
      "Strava.All\n",
      "Strava.Ride\n",
      "Strava.Run\n",
      "Strava.Water\n",
      "Strava.Winter\n",
      "Stamen.Terrain\n",
      "Stamen.Toner\n",
      "Stamen.Watercolor\n"
     ]
    }
   ],
   "source": [
    "basemaps = geemap.ee_basemaps\n",
    "for basemap in basemaps:\n",
    "    print(basemap)"
   ]
  },
  {
   "cell_type": "code",
   "execution_count": 8,
   "metadata": {},
   "outputs": [
    {
     "name": "stdout",
     "output_type": "stream",
     "text": [
      "layer already on map: TileLayer(attribution='Map data: &copy; <a href=\"http://www.openstreetmap.org/copyright\">OpenStreetMap</a>, <a href=\"http://viewfinderpanoramas.org\">SRTM</a> | Map style: &copy; <a href=\"https://opentopomap.org\">OpenTopoMap</a> (<a href=\"https://creativecommons.org/licenses/by-sa/3.0/\">CC-BY-SA</a>)', max_zoom=17, min_zoom=1, name='OpenTopoMap', options=['attribution', 'detect_retina', 'max_native_zoom', 'max_zoom', 'min_native_zoom', 'min_zoom', 'no_wrap', 'tile_size', 'tms'], url='https://{s}.tile.opentopomap.org/{z}/{x}/{y}.png')\n",
      "Basemap can only be one of the following:\n",
      "  ROADMAP\n",
      "  SATELLITE\n",
      "  TERRAIN\n",
      "  HYBRID\n",
      "  ESRI\n",
      "  Esri Ocean\n",
      "  Esri Satellite\n",
      "  Esri Standard\n",
      "  Esri Terrain\n",
      "  Esri Transportation\n",
      "  Esri Topo World\n",
      "  Esri National Geographic\n",
      "  Esri Shaded Relief\n",
      "  Esri Physical Map\n",
      "  FWS NWI Wetlands\n",
      "  FWS NWI Wetlands Raster\n",
      "  Google Maps\n",
      "  Google Satellite\n",
      "  Google Terrain\n",
      "  Google Satellite Hybrid\n",
      "  NLCD 2016 CONUS Land Cover\n",
      "  NLCD 2013 CONUS Land Cover\n",
      "  NLCD 2011 CONUS Land Cover\n",
      "  NLCD 2008 CONUS Land Cover\n",
      "  NLCD 2006 CONUS Land Cover\n",
      "  NLCD 2004 CONUS Land Cover\n",
      "  NLCD 2001 CONUS Land Cover\n",
      "  USGS NAIP Imagery\n",
      "  USGS Hydrography\n",
      "  USGS 3DEP Elevation\n",
      "  OpenStreetMap.Mapnik\n",
      "  OpenStreetMap.BlackAndWhite\n",
      "  OpenStreetMap.DE\n",
      "  OpenStreetMap.France\n",
      "  OpenStreetMap.HOT\n",
      "  OpenTopoMap\n",
      "  Hydda.Full\n",
      "  Hydda.Base\n",
      "  Esri.WorldStreetMap\n",
      "  Esri.DeLorme\n",
      "  Esri.WorldTopoMap\n",
      "  Esri.WorldImagery\n",
      "  Esri.NatGeoWorldMap\n",
      "  HikeBike.HikeBike\n",
      "  MtbMap\n",
      "  CartoDB.Positron\n",
      "  CartoDB.DarkMatter\n",
      "  NASAGIBS.ModisTerraTrueColorCR\n",
      "  NASAGIBS.ModisTerraBands367CR\n",
      "  NASAGIBS.ModisTerraBands721CR\n",
      "  NASAGIBS.ModisAquaTrueColorCR\n",
      "  NASAGIBS.ModisAquaBands721CR\n",
      "  NASAGIBS.ViirsTrueColorCR\n",
      "  NASAGIBS.ViirsEarthAtNight2012\n",
      "  NASAGIBS.BlueMarble3413\n",
      "  NASAGIBS.BlueMarble3031\n",
      "  NASAGIBS.BlueMarble\n",
      "  Strava.All\n",
      "  Strava.Ride\n",
      "  Strava.Run\n",
      "  Strava.Water\n",
      "  Strava.Winter\n",
      "  Stamen.Terrain\n",
      "  Stamen.Toner\n",
      "  Stamen.Watercolor\n"
     ]
    },
    {
     "data": {
      "application/vnd.jupyter.widget-view+json": {
       "model_id": "97f52b40aa004f89bf92b5fc7e7635bf",
       "version_major": 2,
       "version_minor": 0
      },
      "text/plain": [
       "Map(center=[40, -100], controls=(WidgetControl(options=['position'], widget=HBox(children=(ToggleButton(value=…"
      ]
     },
     "metadata": {},
     "output_type": "display_data"
    }
   ],
   "source": [
    "Map.add_basemap('OpenTopoMap')\n",
    "Map = geemap.Map(center=(40, -100), zoom=4)\n",
    "Map"
   ]
  }
 ],
 "metadata": {
  "kernelspec": {
   "display_name": "Python 3",
   "language": "python",
   "name": "python3"
  },
  "language_info": {
   "codemirror_mode": {
    "name": "ipython",
    "version": 3
   },
   "file_extension": ".py",
   "mimetype": "text/x-python",
   "name": "python",
   "nbconvert_exporter": "python",
   "pygments_lexer": "ipython3",
   "version": "3.8.3"
  }
 },
 "nbformat": 4,
 "nbformat_minor": 4
}
